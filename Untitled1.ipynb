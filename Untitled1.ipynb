{
 "cells": [
  {
   "cell_type": "code",
   "execution_count": 7,
   "metadata": {},
   "outputs": [],
   "source": [
    "#!/usr/bin/env python3\n",
    "\n",
    "# NOTE: this example requires PyAudio because it uses the Microphone class\n",
    "\n",
    "import time\n",
    "\n",
    "import speech_recognition as sr\n"
   ]
  },
  {
   "cell_type": "code",
   "execution_count": 2,
   "metadata": {},
   "outputs": [],
   "source": [
    "# this is called from the background thread\n",
    "def callback(recognizer, audio, n):\n",
    "    # received audio data, now we'll recognize it using Google Speech Recognition\n",
    "    #with open(\"microphone-results_loop_{}.wav\".format(n), \"wb\") as f:\n",
    "    #    f.write(audio.get_wav_data())\n",
    "    #    print(\"audio saved\")\n",
    "    try:\n",
    "        # for testing purposes, we're just using the default API key\n",
    "        # to use another API key, use `r.recognize_google(audio, key=\"GOOGLE_SPEECH_RECOGNITION_API_KEY\")`\n",
    "        # instead of `r.recognize_google(audio)`\n",
    "        print(\"Google Speech Recognition thinks you said :\" + recognizer.recognize_google(audio, language='fr-FR'))\n",
    "    except sr.UnknownValueError:\n",
    "        print(\"Google Speech Recognition could not understand audio\")\n",
    "    except sr.RequestError as e:\n",
    "        print(\"Could not request results from Google Speech Recognition service; {0}\".format(e))"
   ]
  },
  {
   "cell_type": "code",
   "execution_count": 9,
   "metadata": {},
   "outputs": [
    {
     "name": "stdout",
     "output_type": "stream",
     "text": [
      "Google Speech Recognition thinks you said meniscus\n",
      "Google Speech Recognition thinks you said hello\n",
      "Google Speech Recognition could not understand audio\n",
      "Google Speech Recognition thinks you said hello how are you\n",
      "Google Speech Recognition thinks you said I'm fine\n",
      "Google Speech Recognition thinks you said you're not so dumb\n",
      "Google Speech Recognition thinks you said going to do tomorrow\n",
      "Google Speech Recognition thinks you said where is George\n",
      "Google Speech Recognition thinks you said where is George\n",
      "Google Speech Recognition thinks you said still running\n",
      "Google Speech Recognition could not understand audio\n",
      "Google Speech Recognition could not understand audio\n"
     ]
    }
   ],
   "source": [
    "import time\n",
    "import speech_recognition as sr\n",
    "\n",
    "# this is called from the background thread\n",
    "def callback(recognizer, audio):\n",
    "    # received audio data, now we'll recognize it using Google Speech Recognition\n",
    "    try:\n",
    "        print(\"Google Speech Recognition thinks you said \" + recognizer.recognize_google(audio))\n",
    "    except sr.UnknownValueError:\n",
    "        print(\"Google Speech Recognition could not understand audio\")\n",
    "    except sr.RequestError as e:\n",
    "        print(\"Could not request results from Google Speech Recognition service; {0}\".format(e))\n",
    "\n",
    "r = sr.Recognizer()\n",
    "m = sr.Microphone()\n",
    "\n",
    "stop_listening = r.listen_in_background(m, callback)\n",
    "\n",
    "# stop listening, wait for 5 seconds, then restart listening\n",
    "stop_listening()\n",
    "time.sleep(5)\n",
    "stop_listening = r.listen_in_background(m, callback)\n",
    "\n",
    "# do other things on the main thread\n",
    "#while True: time.sleep(0.1)"
   ]
  },
  {
   "cell_type": "code",
   "execution_count": 3,
   "metadata": {},
   "outputs": [],
   "source": [
    "r = sr.Recognizer()\n",
    "m = sr.Microphone()"
   ]
  },
  {
   "cell_type": "code",
   "execution_count": 6,
   "metadata": {},
   "outputs": [
    {
     "ename": "AttributeError",
     "evalue": "'function' object has no attribute 'get_wav_data'",
     "output_type": "error",
     "traceback": [
      "\u001b[0;31m---------------------------------------------------------------------------\u001b[0m",
      "\u001b[0;31mAttributeError\u001b[0m                            Traceback (most recent call last)",
      "\u001b[0;32m<ipython-input-6-67dbbfbd2c10>\u001b[0m in \u001b[0;36m<module>\u001b[0;34m\u001b[0m\n\u001b[1;32m     12\u001b[0m \u001b[0mstop_listening\u001b[0m\u001b[0;34m(\u001b[0m\u001b[0;34m)\u001b[0m\u001b[0;34m\u001b[0m\u001b[0;34m\u001b[0m\u001b[0m\n\u001b[1;32m     13\u001b[0m \u001b[0;32mwith\u001b[0m \u001b[0mopen\u001b[0m\u001b[0;34m(\u001b[0m\u001b[0;34m\"microphone-results_loop_test.wav\"\u001b[0m\u001b[0;34m,\u001b[0m \u001b[0;34m\"wb\"\u001b[0m\u001b[0;34m)\u001b[0m \u001b[0;32mas\u001b[0m \u001b[0mf\u001b[0m\u001b[0;34m:\u001b[0m\u001b[0;34m\u001b[0m\u001b[0;34m\u001b[0m\u001b[0m\n\u001b[0;32m---> 14\u001b[0;31m     \u001b[0mf\u001b[0m\u001b[0;34m.\u001b[0m\u001b[0mwrite\u001b[0m\u001b[0;34m(\u001b[0m\u001b[0mstop_listening\u001b[0m\u001b[0;34m.\u001b[0m\u001b[0mget_wav_data\u001b[0m\u001b[0;34m(\u001b[0m\u001b[0;34m)\u001b[0m\u001b[0;34m)\u001b[0m\u001b[0;34m\u001b[0m\u001b[0;34m\u001b[0m\u001b[0m\n\u001b[0m\u001b[1;32m     15\u001b[0m \u001b[0;31m# do some more unrelated things\u001b[0m\u001b[0;34m\u001b[0m\u001b[0;34m\u001b[0m\u001b[0;34m\u001b[0m\u001b[0m\n\u001b[1;32m     16\u001b[0m \u001b[0;31m#while True: time.sleep(0.1)  # we're not listening anymore, even though the background thread might still be running for a second or two while cleaning up and stopping\u001b[0m\u001b[0;34m\u001b[0m\u001b[0;34m\u001b[0m\u001b[0;34m\u001b[0m\u001b[0m\n",
      "\u001b[0;31mAttributeError\u001b[0m: 'function' object has no attribute 'get_wav_data'"
     ]
    }
   ],
   "source": [
    "with m as source:\n",
    "    r.adjust_for_ambient_noise(source)  # we only need to calibrate once, before we start listening\n",
    "\n",
    "# start listening in the background (note that we don't have to do this inside a `with` statement)\n",
    "stop_listening = r.listen_in_background(m, callback)\n",
    "# `stop_listening` is now a function that, when called, stops background listening\n",
    "\n",
    "# do some unrelated computations for 5 seconds\n",
    "#for _ in range(50): time.sleep(0.1)  # we're still listening even though the main thread is doing other things\n",
    "\n",
    "# calling this function requests that the background listener stop listening\n",
    "stop_listening()\n",
    "with open(\"microphone-results_loop_test.wav\", \"wb\") as f:\n",
    "    f.write(stop_listening.get_wav_data())\n",
    "# do some more unrelated things\n",
    "#while True: time.sleep(0.1)  # we're not listening anymore, even though the background thread might still be running for a second or two while cleaning up and stopping\n"
   ]
  },
  {
   "cell_type": "code",
   "execution_count": null,
   "metadata": {},
   "outputs": [],
   "source": []
  },
  {
   "cell_type": "code",
   "execution_count": null,
   "metadata": {},
   "outputs": [],
   "source": [
    "stop = True\n",
    "while(stop):\n",
    "    n = 0\n",
    "    with m as source:\n",
    "        r.adjust_for_ambient_noise(source)\n",
    "    stop_listening = r.listen_in_background(m, callback, n)\n",
    "    stop_listening()\n",
    "    m"
   ]
  },
  {
   "cell_type": "code",
   "execution_count": null,
   "metadata": {},
   "outputs": [],
   "source": []
  }
 ],
 "metadata": {
  "kernelspec": {
   "display_name": "Python [aime]",
   "language": "python",
   "name": "Python [aime]"
  },
  "language_info": {
   "codemirror_mode": {
    "name": "ipython",
    "version": 3
   },
   "file_extension": ".py",
   "mimetype": "text/x-python",
   "name": "python",
   "nbconvert_exporter": "python",
   "pygments_lexer": "ipython3",
   "version": "3.6.8"
  }
 },
 "nbformat": 4,
 "nbformat_minor": 2
}
