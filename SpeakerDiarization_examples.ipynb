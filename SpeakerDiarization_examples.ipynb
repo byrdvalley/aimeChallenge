{
 "cells": [
  {
   "cell_type": "markdown",
   "metadata": {},
   "source": [
    "# Speaker Diarization "
   ]
  },
  {
   "cell_type": "markdown",
   "metadata": {},
   "source": [
    "## Using pyAudioAnalysis library (https://github.com/tyiannak/pyAudioAnalysis)"
   ]
  },
  {
   "cell_type": "markdown",
   "metadata": {},
   "source": [
    "### Setup\n",
    "\n",
    "* pip install numpy matplotlib scipy sklearn hmmlearn simplejson eyed3 pydub\n",
    "* brew install libmagic\n",
    "* brew install ffmpeg\n",
    "* git clone https://github.com/tyiannak/pyAudioAnalysis.git\n",
    "* pip install -e ."
   ]
  },
  {
   "cell_type": "code",
   "execution_count": 1,
   "metadata": {},
   "outputs": [],
   "source": [
    "%matplotlib inline"
   ]
  },
  {
   "cell_type": "code",
   "execution_count": 2,
   "metadata": {},
   "outputs": [],
   "source": [
    "from pyAudioAnalysis import audioSegmentation as aS"
   ]
  },
  {
   "cell_type": "markdown",
   "metadata": {},
   "source": [
    "### With Ground Truth (.segments file) knowledge\n",
    "\n",
    "* red: groundttruth\n",
    "* blue : test"
   ]
  },
  {
   "cell_type": "code",
   "execution_count": 27,
   "metadata": {},
   "outputs": [
    {
     "name": "stdout",
     "output_type": "stream",
     "text": [
      "86.2\t86.2\n"
     ]
    },
    {
     "data": {
      "image/png": "[encoded data removed]",
      "text/plain": [
       "<Figure size 432x288 with 1 Axes>"
      ]
     },
     "metadata": {
      "needs_background": "light"
     },
     "output_type": "display_data"
    }
   ],
   "source": [
    "flags_diaEx1 = aS.speakerDiarization(\"../pyAudioAnalysis/pyAudioAnalysis/data/diarizationExample.wav\", 4,\n",
    "                      mt_size=2.0, mt_step= 0.2, st_win=0.05 ,lda_dim=0, plot_res=1)"
   ]
  },
  {
   "cell_type": "code",
   "execution_count": 28,
   "metadata": {},
   "outputs": [],
   "source": [
    "(segs_diaEx1, classes_diaEx1) = aS.flags2segs(flags_diaEx1, 0.2)"
   ]
  },
  {
   "cell_type": "code",
   "execution_count": 29,
   "metadata": {},
   "outputs": [
    {
     "name": "stdout",
     "output_type": "stream",
     "text": [
      "Speaker #0 : from 0.0 (sec) to 5.800000000000001 (sec)\n",
      "\n",
      "Speaker #1 : from 5.800000000000001 (sec) to 10.200000000000001 (sec)\n",
      "\n",
      "Speaker #2 : from 10.200000000000001 (sec) to 15.0 (sec)\n",
      "\n",
      "Speaker #1 : from 15.0 (sec) to 17.6 (sec)\n",
      "\n",
      "Speaker #2 : from 17.6 (sec) to 26.6 (sec)\n",
      "\n",
      "Speaker #1 : from 26.6 (sec) to 33.4 (sec)\n",
      "\n",
      "Speaker #3 : from 33.4 (sec) to 41.800000000000004 (sec)\n",
      "\n"
     ]
    }
   ],
   "source": [
    "for s in range(segs_diaEx1.shape[0]):\n",
    "    print(\"Speaker #{} : from {} (sec) to {} (sec)\\n\".format( int(classes_diaEx1[s]), segs_diaEx1[s,0], segs_diaEx1[s,1]))"
   ]
  },
  {
   "cell_type": "markdown",
   "metadata": {},
   "source": [
    "### When no knowledge about number of participants"
   ]
  },
  {
   "cell_type": "code",
   "execution_count": 30,
   "metadata": {},
   "outputs": [
    {
     "name": "stdout",
     "output_type": "stream",
     "text": [
      "86.2\t86.2\n"
     ]
    },
    {
     "data": {
      "image/png": "[encoded data removed]",
      "text/plain": [
       "<Figure size 432x288 with 1 Axes>"
      ]
     },
     "metadata": {
      "needs_background": "light"
     },
     "output_type": "display_data"
    }
   ],
   "source": [
    "flags_diaEx1_0 = aS.speakerDiarization(\"../pyAudioAnalysis/pyAudioAnalysis/data/diarizationExample.wav\", 4,\n",
    "                      mt_size=2.0, mt_step= 0.2, st_win=0.05 ,lda_dim=0, plot_res=1)"
   ]
  },
  {
   "cell_type": "code",
   "execution_count": 91,
   "metadata": {},
   "outputs": [],
   "source": [
    "# Could also be run by command line\n",
    "#%run ../pyAudioAnalysis/pyAudioAnalysis/audioAnalysis.py speakerDiarization -i ../pyAudioAnalysis/pyAudioAnalysis/data/diarizationExample.wav --num 4"
   ]
  },
  {
   "cell_type": "markdown",
   "metadata": {},
   "source": [
    "### Without Ground Truth (.segments file) knowledge"
   ]
  },
  {
   "cell_type": "code",
   "execution_count": 17,
   "metadata": {},
   "outputs": [],
   "source": [
    "flags_diaEx1_wgt = aS.speakerDiarization(\"audio_sample/AI_Challenge.wav\", 2,\n",
    "                      mt_size=2.0, mt_step= 0.2, st_win=0.05 ,lda_dim=0)"
   ]
  },
  {
   "cell_type": "code",
   "execution_count": 18,
   "metadata": {},
   "outputs": [],
   "source": [
    "#flags2segs(flags, window)\n",
    "(segs_diaEx1_wgt, classes_diaEx1_wgt) = aS.flags2segs(flags_diaEx1_wgt, 0.2)"
   ]
  },
  {
   "cell_type": "code",
   "execution_count": 19,
   "metadata": {},
   "outputs": [
    {
     "name": "stdout",
     "output_type": "stream",
     "text": [
      "Speaker #0 : from 0.0 (sec) to 18.2 (sec)\n",
      "\n",
      "Speaker #1 : from 18.2 (sec) to 38.2 (sec)\n",
      "\n",
      "Speaker #0 : from 38.2 (sec) to 50.400000000000006 (sec)\n",
      "\n",
      "Speaker #1 : from 50.400000000000006 (sec) to 63.6 (sec)\n",
      "\n"
     ]
    }
   ],
   "source": [
    "for s in range(segs_diaEx1_wgt.shape[0]):\n",
    "    print(\"Speaker #{} : from {} (sec) to {} (sec)\\n\".format(int(classes_diaEx1_wgt[s]), segs_diaEx1_wgt[s,0], segs_diaEx1_wgt[s,1]))"
   ]
  },
  {
   "cell_type": "code",
   "execution_count": 24,
   "metadata": {},
   "outputs": [
    {
     "data": {
      "text/plain": [
       "[0.0, 1.0, 0.0, 1.0]"
      ]
     },
     "execution_count": 24,
     "metadata": {},
     "output_type": "execute_result"
    }
   ],
   "source": [
    "classes_diaEx1_wgt"
   ]
  },
  {
   "cell_type": "code",
   "execution_count": 23,
   "metadata": {},
   "outputs": [
    {
     "data": {
      "text/plain": [
       "array([[ 0. , 18.2],\n",
       "       [18.2, 38.2],\n",
       "       [38.2, 50.4],\n",
       "       [50.4, 63.6]])"
      ]
     },
     "execution_count": 23,
     "metadata": {},
     "output_type": "execute_result"
    }
   ],
   "source": [
    "segs_diaEx1_wgt"
   ]
  },
  {
   "cell_type": "code",
   "execution_count": 3,
   "metadata": {},
   "outputs": [],
   "source": [
    "import matplotlib.ticker as ticker\n",
    "import matplotlib.pyplot as plt\n",
    "import numpy as np"
   ]
  },
  {
   "cell_type": "code",
   "execution_count": 7,
   "metadata": {},
   "outputs": [],
   "source": [
    "import numpy as np"
   ]
  },
  {
   "cell_type": "code",
   "execution_count": 12,
   "metadata": {},
   "outputs": [],
   "source": [
    "def show_spkDia(flags, mt_step=0.2):\n",
    "    (segs, classes) = aS.flags2segs(flags, 0.2)\n",
    "    for s in range(segs.shape[0]):\n",
    "        print(\"Speaker #{} : from {} (sec) to {} (sec)\\n\".format( int(classes[s]), segs[s,0], segs[s,1]))\n",
    "    nSpeakersFinal = len(set(classes))\n",
    "    cls_ = flags\n",
    "    class_names = [\"speaker{0:d}\".format(c) for c in range(nSpeakersFinal)]\n",
    "    fig = plt.figure()    \n",
    "    ax1 = fig.add_subplot(111)\n",
    "    ax1.set_yticks(np.array(range(len(class_names))))\n",
    "    ax1.set_yticklabels(class_names)\n",
    "    plt.title(\"Speaker Diarization\")\n",
    "    plt.xlabel(\"time (seconds)\")\n",
    "    #ax1.xaxis.set_major_locator(ticker.MultipleLocator(0.3))\n",
    "    ax1.plot(np.array(range(len(cls_)))*mt_step+mt_step/2.0, cls_);"
   ]
  },
  {
   "cell_type": "code",
   "execution_count": 13,
   "metadata": {},
   "outputs": [],
   "source": [
    "hello_ex = aS.speakerDiarization(\"audio_sample/AI_Challenge.wav\", 2,\n",
    "                      mt_size=2.0, mt_step= 0.2, st_win=0.05 ,lda_dim=0)"
   ]
  },
  {
   "cell_type": "code",
   "execution_count": 14,
   "metadata": {},
   "outputs": [
    {
     "name": "stdout",
     "output_type": "stream",
     "text": [
      "Speaker #0 : from 0.0 (sec) to 18.2 (sec)\n",
      "\n",
      "Speaker #1 : from 18.2 (sec) to 38.2 (sec)\n",
      "\n",
      "Speaker #0 : from 38.2 (sec) to 50.400000000000006 (sec)\n",
      "\n",
      "Speaker #1 : from 50.400000000000006 (sec) to 63.6 (sec)\n",
      "\n"
     ]
    },
    {
     "data": {
      "image/png": "[encoded data removed]",
      "text/plain": [
       "<Figure size 432x288 with 1 Axes>"
      ]
     },
     "metadata": {
      "needs_background": "light"
     },
     "output_type": "display_data"
    }
   ],
   "source": [
    "show_spkDia(hello_ex)"
   ]
  },
  {
   "cell_type": "code",
   "execution_count": 15,
   "metadata": {},
   "outputs": [],
   "source": [
    "flags_sbc018 = aS.speakerDiarization(\"../spokenDiag/SBC018.wav\", 4,\n",
    "                      mt_size=2.0, mt_step= 0.2, st_win=0.05 ,lda_dim=0)"
   ]
  },
  {
   "cell_type": "code",
   "execution_count": null,
   "metadata": {},
   "outputs": [],
   "source": []
  }
 ],
 "metadata": {
  "kernelspec": {
   "display_name": "Python [aime]",
   "language": "python",
   "name": "Python [aime]"
  },
  "language_info": {
   "codemirror_mode": {
    "name": "ipython",
    "version": 3
   },
   "file_extension": ".py",
   "mimetype": "text/x-python",
   "name": "python",
   "nbconvert_exporter": "python",
   "pygments_lexer": "ipython3",
   "version": "3.6.8"
  }
 },
 "nbformat": 4,
 "nbformat_minor": 2
}
