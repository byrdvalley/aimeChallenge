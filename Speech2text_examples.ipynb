{
 "cells": [
  {
   "cell_type": "markdown",
   "metadata": {},
   "source": [
    "# Speech2Text examples"
   ]
  },
  {
   "cell_type": "markdown",
   "metadata": {},
   "source": [
    "## Using SpeechRecognition library (https://github.com/Uberi/speech_recognition)"
   ]
  },
  {
   "cell_type": "markdown",
   "metadata": {},
   "source": [
    "### setup:\n",
    "* conda create --name `<your env name>` python=3.6\n",
    "* source activate `<your env name>`\n",
    "* conda install nb_conda\n",
    "* pip install SpeechRecognition\n",
    "* pip install pyaudio\n",
    "    * If not working, brew install portaudio and again pip install pyaudio\n"
   ]
  },
  {
   "cell_type": "code",
   "execution_count": 1,
   "metadata": {},
   "outputs": [],
   "source": [
    "import speech_recognition as sr"
   ]
  },
  {
   "cell_type": "code",
   "execution_count": 2,
   "metadata": {},
   "outputs": [],
   "source": [
    "r = sr.Recognizer()"
   ]
  },
  {
   "cell_type": "code",
   "execution_count": 15,
   "metadata": {},
   "outputs": [
    {
     "name": "stdout",
     "output_type": "stream",
     "text": [
      "say something\n",
      "time over\n",
      "Recognition...\n",
      "text : how many bananas did we sell in 2018\n"
     ]
    }
   ],
   "source": [
    "with sr.Microphone() as source:\n",
    "    print(\"say something\")\n",
    "    audio = r.listen(source)\n",
    "    print(\"time over\")\n",
    "    print(\"recognition...\")\n",
    "    \n",
    "try:\n",
    "    print(\"text : \" + r.recognize_google(audio))\n",
    "except:\n",
    "    print(\"didn't work\")\n",
    "    pass"
   ]
  },
  {
   "cell_type": "code",
   "execution_count": null,
   "metadata": {},
   "outputs": [],
   "source": []
  }
 ],
 "metadata": {
  "kernelspec": {
   "display_name": "Python [aime]",
   "language": "python",
   "name": "Python [aime]"
  },
  "language_info": {
   "codemirror_mode": {
    "name": "ipython",
    "version": 3
   },
   "file_extension": ".py",
   "mimetype": "text/x-python",
   "name": "python",
   "nbconvert_exporter": "python",
   "pygments_lexer": "ipython3",
   "version": "3.6.8"
  }
 },
 "nbformat": 4,
 "nbformat_minor": 2
}
