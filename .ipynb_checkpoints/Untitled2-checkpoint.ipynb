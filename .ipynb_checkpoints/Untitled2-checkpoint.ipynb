{
 "cells": [
  {
   "cell_type": "code",
   "execution_count": 1,
   "metadata": {},
   "outputs": [],
   "source": [
    "import speech_recognition as sr\n",
    "import time\n",
    "\n",
    "r = sr.Recognizer()"
   ]
  },
  {
   "cell_type": "code",
   "execution_count": 2,
   "metadata": {},
   "outputs": [],
   "source": [
    "\n",
    "# Words that sphinx should listen closely for. 0-1 is the sensitivity\n",
    "# of the wake word.\n",
    "keywords = [(\"hello\", 1), (\"hey you\", 1), ]\n",
    "\n",
    "source = sr.Microphone()\n",
    "\n",
    "\n",
    "def callback(recognizer, audio):  # this is called from the background thread\n",
    "\n",
    "    try:\n",
    "        speech_as_text = recognizer.recognize_sphinx(audio, keyword_entries=keywords)\n",
    "        print(speech_as_text)\n",
    "\n",
    "        # Look for your \"Ok Google\" keyword in speech_as_text\n",
    "        if \"hello\" in speech_as_text:\n",
    "            recognize_main()\n",
    "\n",
    "    except sr.UnknownValueError:\n",
    "        print(\"Oops! Didn't catch that\")\n",
    "\n",
    "\n",
    "def recognize_main():\n",
    "    print(\"Recognizing Main...\")\n",
    "    audio_data = r.listen(source)\n",
    "    # interpret the user's words however you normally interpret them\n",
    "    print(\"time over\")\n",
    "    print(\"recognition...\")\n",
    "    \n",
    "    try:\n",
    "        print(\"text : \" + r.recognize_google(audio))\n",
    "    except:\n",
    "        print(\"didn't work\")\n",
    "    pass\n",
    "\n",
    "def start_recognizer():\n",
    "    r.listen_in_background(source, callback)\n",
    "    time.sleep(1000000)\n"
   ]
  },
  {
   "cell_type": "code",
   "execution_count": null,
   "metadata": {},
   "outputs": [
    {
     "name": "stdout",
     "output_type": "stream",
     "text": [
      "Oops! Didn't catch that\n",
      "Oops! Didn't catch that\n",
      "hey you \n",
      "Recognizing Main...\n",
      "time over\n",
      "recognition...\n",
      "didn't work\n",
      "hello  hello  hello  hello  hello  hey you  hello  hello \n",
      "Recognizing Main...\n",
      "time over\n",
      "recognition...\n",
      "didn't work\n",
      "Oops! Didn't catch that\n",
      "hello  hey you \n",
      "Recognizing Main...\n",
      "time over\n",
      "recognition...\n",
      "didn't work\n",
      "hey you \n",
      "Recognizing Main...\n",
      "time over\n",
      "recognition...\n",
      "didn't work\n",
      "hello \n",
      "Recognizing Main...\n",
      "time over\n",
      "recognition...\n",
      "didn't work\n",
      "hello \n",
      "Recognizing Main...\n",
      "time over\n",
      "recognition...\n",
      "didn't work\n",
      "Oops! Didn't catch that\n",
      "hello \n",
      "Recognizing Main...\n",
      "time over\n",
      "recognition...\n",
      "didn't work\n",
      "Oops! Didn't catch that\n",
      "hello  hello  hello \n",
      "Recognizing Main...\n",
      "time over\n",
      "recognition...\n",
      "didn't work\n",
      "hello \n",
      "Recognizing Main...\n",
      "time over\n",
      "recognition...\n",
      "didn't work\n",
      "Oops! Didn't catch that\n",
      "hello  hello  hello  hello  hello  hello  hello \n",
      "Recognizing Main...\n",
      "time over\n",
      "recognition...\n",
      "didn't work\n"
     ]
    }
   ],
   "source": [
    "start_recognizer()"
   ]
  },
  {
   "cell_type": "code",
   "execution_count": null,
   "metadata": {},
   "outputs": [],
   "source": []
  }
 ],
 "metadata": {
  "kernelspec": {
   "display_name": "Python [aime]",
   "language": "python",
   "name": "Python [aime]"
  },
  "language_info": {
   "codemirror_mode": {
    "name": "ipython",
    "version": 3
   },
   "file_extension": ".py",
   "mimetype": "text/x-python",
   "name": "python",
   "nbconvert_exporter": "python",
   "pygments_lexer": "ipython3",
   "version": "3.6.8"
  }
 },
 "nbformat": 4,
 "nbformat_minor": 2
}
