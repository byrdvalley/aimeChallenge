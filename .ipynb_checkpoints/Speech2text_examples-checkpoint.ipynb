{
 "cells": [
  {
   "cell_type": "markdown",
   "metadata": {},
   "source": [
    "# Speech2Text examples"
   ]
  },
  {
   "cell_type": "markdown",
   "metadata": {},
   "source": [
    "## Using SpeechRecognition library (https://github.com/Uberi/speech_recognition)"
   ]
  },
  {
   "cell_type": "markdown",
   "metadata": {},
   "source": [
    "### setup:\n",
    "* conda create --name `<your env name>` python=3.6\n",
    "* source activate `<your env name>`\n",
    "* conda install nb_conda\n",
    "* pip install SpeechRecognition\n",
    "* pip install pyaudio\n",
    "    * If not working, brew install portaudio and again pip install pyaudio\n"
   ]
  },
  {
   "cell_type": "code",
   "execution_count": 1,
   "metadata": {},
   "outputs": [],
   "source": [
    "import speech_recognition as sr"
   ]
  },
  {
   "cell_type": "code",
   "execution_count": 2,
   "metadata": {},
   "outputs": [],
   "source": [
    "r = sr.Recognizer()"
   ]
  },
  {
   "cell_type": "code",
   "execution_count": 8,
   "metadata": {},
   "outputs": [
    {
     "name": "stdout",
     "output_type": "stream",
     "text": [
      "say something\n",
      "<class 'speech_recognition.AudioData'>\n",
      "time over\n",
      "recognition...\n",
      "didn't work\n"
     ]
    }
   ],
   "source": [
    "with sr.Microphone() as source:\n",
    "    print(\"say something\")\n",
    "    audio = r.listen(source)\n",
    "    print(type(audio))\n",
    "    print(\"time over\")\n",
    "    print(\"recognition...\")\n",
    "    \n",
    "try:\n",
    "    print(\"text : \" + r.recognize_google(audio))\n",
    "except:\n",
    "    print(\"didn't work\")\n",
    "    pass"
   ]
  },
  {
   "cell_type": "code",
   "execution_count": 3,
   "metadata": {},
   "outputs": [],
   "source": [
    "import io"
   ]
  },
  {
   "cell_type": "code",
   "execution_count": 4,
   "metadata": {},
   "outputs": [],
   "source": [
    "import wave"
   ]
  },
  {
   "cell_type": "code",
   "execution_count": 5,
   "metadata": {},
   "outputs": [],
   "source": [
    "def get_wav_data_fromRAW(raw_data, convert_rate=None, convert_width=None):\n",
    "    \"\"\"\n",
    "    Returns a byte string representing the contents of a WAV file containing the audio represented by the ``AudioData`` instance.\n",
    "\n",
    "    If ``convert_width`` is specified and the audio samples are not ``convert_width`` bytes each, the resulting audio is converted to match.\n",
    "\n",
    "    If ``convert_rate`` is specified and the audio sample rate is not ``convert_rate`` Hz, the resulting audio is resampled to match.\n",
    "\n",
    "    Writing these bytes directly to a file results in a valid `WAV file <https://en.wikipedia.org/wiki/WAV>`__.\n",
    "    \"\"\"\n",
    "    sample_rate = 44100\n",
    "    sample_width = 2\n",
    "\n",
    "    # generate the WAV file contents\n",
    "    with io.BytesIO() as wav_file:\n",
    "        wav_writer = wave.open(wav_file, \"wb\")\n",
    "        try:  # note that we can't use context manager, since that was only added in Python 3.4\n",
    "            wav_writer.setframerate(sample_rate)\n",
    "            wav_writer.setsampwidth(sample_width)\n",
    "            wav_writer.setnchannels(1)\n",
    "            wav_writer.writeframes(raw_data)\n",
    "            wav_data = wav_file.getvalue()\n",
    "        finally:  # make sure resources are cleaned up\n",
    "            wav_writer.close()\n",
    "    return wav_data"
   ]
  },
  {
   "cell_type": "code",
   "execution_count": 24,
   "metadata": {},
   "outputs": [],
   "source": [
    "#audio_raw = audio.get_raw_data()"
   ]
  },
  {
   "cell_type": "code",
   "execution_count": 22,
   "metadata": {},
   "outputs": [
    {
     "data": {
      "text/plain": [
       "44100"
      ]
     },
     "execution_count": 22,
     "metadata": {},
     "output_type": "execute_result"
    }
   ],
   "source": [
    "#audio.sample_rate"
   ]
  },
  {
   "cell_type": "code",
   "execution_count": 30,
   "metadata": {},
   "outputs": [],
   "source": [
    "with open(\"microphone-results_fromRaw.wav\", \"wb\") as f:\n",
    "    f.write(get_wav_data_fromRAW(audio_raw))"
   ]
  },
  {
   "cell_type": "code",
   "execution_count": 6,
   "metadata": {},
   "outputs": [],
   "source": [
    "from IPython.display import Audio\n",
    "sound_file_end = './end_record.mp3'\n",
    "sound_file_start = './start_record.mp3'\n",
    "sound_file_howmany = './howmany.mp3'"
   ]
  },
  {
   "cell_type": "code",
   "execution_count": 13,
   "metadata": {},
   "outputs": [],
   "source": [
    "#keywords = [(\"meeting over\", 1), (\"meeting start\", 1)]"
   ]
  },
  {
   "cell_type": "code",
   "execution_count": 7,
   "metadata": {},
   "outputs": [
    {
     "name": "stdout",
     "output_type": "stream",
     "text": [
      "say something\n",
      "time over\n",
      "recognition...\n",
      "text : start the meeting\n",
      "OK let's start recording\n",
      "say something\n",
      "time over\n",
      "recognition...\n",
      "text : 150w power video\n",
      "say something\n",
      "time over\n",
      "recognition...\n",
      "text : make money out of knowledge\n",
      "say something\n",
      "time over\n",
      "recognition...\n",
      "didn't work\n",
      "say something\n",
      "time over\n",
      "recognition...\n",
      "text : musical numbers for a project\n",
      "say something\n",
      "time over\n",
      "recognition...\n",
      "text : settings dropping\n",
      "say something\n",
      "time over\n",
      "recognition...\n",
      "text : drop the mic\n",
      "say something\n",
      "time over\n",
      "recognition...\n",
      "didn't work\n",
      "say something\n",
      "time over\n",
      "recognition...\n",
      "text : meeting is over\n"
     ]
    },
    {
     "data": {
      "text/html": [
       "\n",
       "                <audio controls=\"controls\" autoplay=\"autoplay\">\n",
       "                    <source src=\"data:audio/mpeg;base64,//NExAARmZ4gAU8QAGRdjfCPhIxxoXHu8pSlKa//vv/Gv/6nOfIQDAxboQhJCThwMWc7SEbnIQn//I04cDAzoBgYs4Pg/8EAQBAEDhc/BAHz/8PqL0WRcMtThm+9tS+f//NExAwVSc6IAZhYAKb/t47l/5xEdZ83NP9A0aTB2kRIm/vu8tVXXoLDgu//c1mO9w3l5YfTLL//Se+esh1nPUah//+y5v/04YgUd/+lSqVu///jXg/VBtfZsb72Pp71//NExAkUmWacActIAFQ59y6GlA/ocFTEJKCgnIMHlCMpIkpoj6ISQIGYzLhs3BnF4LqkYr3wgYmjhcN2H87n/2DA8EJOkN2febjMEC7/12/+qUcPUUJqTeZ/TWKkrHQn//NExAkTmTqsAHvQcNn/3SGdgAnBPquHO8hNkVCQj4/573lQ5EwNwXqHboIAmRvxTpxQiaIHbcy6IssNnmyELkAfPrPJCNoEAAD//x3///5BMvU0f1KOhoZPJo9SbeJH//NExA0TaZ60AIYQlBFj4zdW9hKIiOFCgnlwkGNDXpayIKv7Mze3VjM3V0tU3TDAVl1pHqJDO3v3LBeJ4ruZo+Lfj1NvSuIYaIf8va1CGzX5MAZCDoq5QHQEoguHRztr//NExBIWyaqwAG5WlJbjtd2zefZ3HrtaSzVPGxgAIrg+dr3qa9ytEU493FnRrPNrdCqA69bh67jYyE5e2+eDrjQsfbqui0dZed2/JJW3p/EWp////8bVCl/OQJIbTdb7//NExAkUcY6sAG5WlHDkCCEE9wJvWN+VxussgYsK034+xIIYsSVp5vrKlk83fu9zz2pN/PyIpOZ/dUO0Y3W6XbzoIh8/EWrKJBqTW5rXUki6Sh3/QE0oqX1LSAJF3djW//NExAoS2YqwAG5WlNyxvUJp6FZyS92/PXHSJcNTkt7Xs0lGzk2iY9uf+9j/7HH/7oouq+OOSGb1UNRROBFJk+9LHaXb/lBp8l5JKL/9KlXj4zeiLjBnJd5iZjpppr6o//NExBESQY6wAH5KlM+jXnvUlupWtyRlSlcK1nqrhStELnSO/l///7CP+Hg0n1UOmZuh1AVmzKWAwGI8pBMVUBgOZJ2SCzZnrE2rg/ylCPnYJBw5/cNWoZeJ+lLAaIDg//NExBsSGLqgAH6eTNvLLV6xDjAEwCceU+J9Pi5l6gK6fX14gCBUNRORBWows7RWd4ldB0zOgv5r/TUWJqveZ4Q+1gw+FOAE3Uqv/ArgLWEdde+M4lCSCLIe44i5XKID//NExCURMQKMANvkcDBXZ9CcFv/nSWSv6j+qe5d3GPpA4iYiBXf30Y7///+lfPP7j6SFuaAcK0QcV+lSMQpYba3Gk3X4cu5dneZXgWCV1Jq8r8zBSCteqNuifO7qyGFX//NExDMRIL6gANYeTKncHikWScdh/nE5CHdP/6nCJZsWtZtNFdH4MQepbUqpg0rlCNZFV2pnVzPceaXV5/4/qmZfL39rT07b1ES4bi4Q2lT3j2Ce+o+XmJDubwx9kCAW//NExEEWCYq8AH4WlHFj6CxuoTLuuKeoWXf9WgHgmEUFDn/1Kig3uaAQzeosgVIBMGir1FQWJb9RgRA2Xo1pkRICRYnlxZXIgZvKLX/zHUDNG/+bqeAnmZ77NicPBVW///NExDsUCabEAGxelbZuxwI1v8SQIr7f/+7vI4L1ADa/bVVNa/xnJ5g/VVE16yBaB0GraL+tqQnLrbnsvdfutNLsrXL/VcSVxcIJromMpHSt8P6Nr7mpQPjtqa4th52L//NExD0RsVrEAHsWlB7aVBWCwiDrCS1xcd91UW2DfoMBtvA9mjwdME6JprfKi6jsicHgPZ9lGZkXnepReLpgBhdnOiP5CzGpmMZlRSlK32//Ve9hBXDoqIoIZZiR4V2l//NExEkQ8cagANNKlTZYKNVOIt7K0ONSCGVuaXlg/8fq0zd23sfnqrHGpxjW9Z5RGmsfrfMoi3lNEZrsVb5SkFcSrUHTZbDBFraDTJxFzGSYLgRBC380O0xyLF8f0alB//NExFggAdaUANYemA7/eZcSv9/F5jkev7RXkdhOuZnj1eM8Vj3U+hhkAVu/9GKO8YSCIqpx7m87bdCQOd9My6Xswk3cmYAMops62MBkH21MmPFH1E0ut1mY7Sj7+vgH//NExCscIc6gANNwlN0nerw7LZUXUNYoXH4jSJyJWIVPtA2U3MsDaddwy7uUTku/L/uRitTVu/uV00Zyy72pSTdLja72vP2cl/Y5xP//27N56XWR587QQMxE5ACaBAEf//NExA0TSb6kANlalJv5p1g8bmEgQ3wL+hvqpvn0u6y6O01nESWC3D3BXh1JFlIkMoIIVorWffU5IG3sxRZvLVJbMXwgx39Lv//o/8iqgbuFiq84IoPut/GmOVIoxSQ6//NExBIR0b6kAMlSlUZtThiegMyNqZ+tv6jGTzCMsZFT/n5gAQGn519LgZdGrnSbWf15S357kr7nWazmR8faF0S2qoGjbquEmWBhA52aM7LgKGgoKk0ifmW0tLLb2WNW//NExB0RoSaIAVswAJccedy7m4/7zX8y6MzXciEwk/oSExv7VgMuZyiwDuVd8sFJUGpZ6jypGjJxAwhRAgAqqDhhQA5pfBRSYMFO8HFkLhugl2pdiepxrnD8pOOY/hsb//NExCkb+xpcAZs4AZ4P3OpW+TQmI5PQw6io6MI4lkyY3JlnTzfWWG5MaD5MSNf33/PB4WPB4Qg8////GhAHg0MGg0MMGjf////9DCbsN3MEs/MfJpFITEFhft8BUszm//NExAwVEWqMAY8YAKb3hST5KRwQLkiTrkzTPOu0LPc0YyRIIQwQJ3ZAUNgWSB9HdVwYfuBEJFoafOmDgHQQEd44JjWrY1IfFi2ytqLxSzVT68QlutWXdO2gwwr3e/1O//NExAoT6fqwAc9AAIXv5Z2BV+8OdOOD/cChgojCJdOgNDFiph+T4+1rm0qKeT4oYY72yfv+/N9bxCnlwJQjPi/m/pP//5v/shAI4+IDn///4Porc6F+Qrie1huxRzZK//NExA0UIZa8AIsElDfaF/Sf3KyLWXFhIJCVLxTEc4dMTlZVim9bR31COaVwDYOIAyQYhSatsm3pZJyyjIKHUQNa2UF4suKlQmg4Luf/2pmaTatQpoVxu2KRFBMl7NpG//NExA8R4X7AAIvElBGRvlEkJNeS+25Sub6JGTp+pdVsEbTM8xnWUVcKh1cpVnkKr2N6/7OU77sHsBdJX/4w8WMJe7/5qkugHXEoPRjkBe0q8wFeI+qfbY7AnVVP2tdE//NExBoQyXbAAIPElP4sK7BAEzmt7Wib3/l08i+BoGKhWCARnOn9C5TTPDmCmQ0WX/6VBxLk1W6wweLC10RWw0UvuGDSs2y+u0tIK9W5XaWnc22W4IUAWW612/UsWv/8//NExCkSCX7AAIYKlPPnqjZ3FcQA4UJisQFBEzfyO39WKcUDofDxH1/WgVWqNO4lEr6ZGBfUqOlgh+PCq63QKggbH9UiasJ5ncXgUSp5y3aeDn7/Cp39DvMOWhUNMyuC//NExDMRoYrAAIYOlMGow+j9FN5lqGiQNjnmC1M77PjKNdZwIUXEmRLwE+bKQOCCIOibO4WVIPj8RdKtAOECOIcxqmF8zVklKJHqOX3N04vG28DQmLNMb0LpuXTY801t//NExD8SQfq8AIwUmA31XVX8xvP+XSvUfFCeB3jaUbAoiegNzHbEUAuECjxLL5OWifGycMMZsuG0F+RQWTxaksi84UX/1oPVOoVU49UnU5kdVZJLomJn+SPQxtXYoRaK//NExEkSIVa4AU9oAEIDXxmrg4DcYEGVjEEw4cuxV0sQ1LgyPKmrmqRuaopMuPwWoeZPuZKVwPEiGhicL6CzFuuscokqjhSWiaIoH1VLrHaOETEkhxGyRkpaS7LU/nB7//NExFMhwsJ0AZpoAR0eI+pmpdJJWbLdJSv+PYcx0eKaRkQkzQ3N0qKn36P/5BHebkwkzEmF8xMDMxOP2MUQE3F7sJRXNRAi2PCoPPzTyT2PwuRgTr/cyjiKI2/mZ7mE//NExB8ZKyq0AYdQAOLAslDv557vmKPCYfFTE/7TPnkZKMcpcz/9GV6nuee7i0OD0fOVF4Wh0aCoID//8ksSOxn8QhCFdwWwLRUBbH4LA4AweSUQ/6n/////+n////3///NExA0SExbUAcE4AP//3Tn7/q7K/rV8x1ojqr0HybKq3Sa5QfNQkaUMPEUbGsPjUbGHOaXFArJiMaD9yA1GQeBEMFSQqUSzFW8BwcQbU5GrT87///7IN0prkTvXR0p9//NExBcSWxrMACiKvb//+9jIZGMVP5f1boZyqxhIwkHjCQqKlQws9G/UqocjlmUx2N+xjh0c8wdFSgKOqHShSm6xXQnDATTOHRCgudAZzBBZeqmXyiz8O/MtTogxg5Gk//NExCAPObbEAICElHDtYscJOogSBvevVP/92akxVDKQQFnRqd3kf7vVPeTIQKCsJrMEBlgbpCcxXSNJpMwPzO4H1KzBzSoSEZ4wBQ6PSpSiIINYwwSAMAEPo7+1vs/3//NExDYRoa68AJFKlO9SBikQqQPJV/5H///Rw3jl9RHgRobSYIJTwHgVH9SpL8gJvkN+VNFCQ9kRnm1oImaphAaK3f63zuTag4Rd1GOz5eGFBiXfKAAEAiBAfAnnyiZd//NExEIQwR7EAIqKcEl+gVwUkLakqP/5F////l//////7/2tds//Z/bqdXsh1NGRRw0w6ez1Sink0ZxoKzCglnuSQqhg+cjMZQcIiWRHy40Q8LjI0MnVH7qVP/////////NExFISEx7QAFBOvf/zQf///2/+l6q3/tZG/b2sOKXLGKLO5CEoyCIqPEbDDGILhwRGqKh0pQ6LBIcLCwfINOFBMCACJiEWNMovv///////z7+82i///rb/50qiXfp1//NExFwRWxrEABBKvfevEJ8zyPKLkFlK4xSiiMLqMVEYfFzmOrkQ4SHCpzibAbCQgJxQPDIKcDAcFEhwfLUtoaBOA2N0c0RZP8f/m/IbH8vl/79//////pyPT//7PZnR//NExGkRqxrAAAhKvViCwiosysVzKjuGPKGdWaahVgziRLkmu8qYJTGIOM5VIHWVvf+MrJQiZp7GZf99SjeXUhB+hAZ+UWfhAPGRiiQKIrmbudc5w5Nw4cQ9KU//9vX1//NExHURExrIAFBEvTo7g0h1/5eGATPBMySr7DvUWqtM0MoZGssIqq87IpYnKgCS2gOQporwNcgy03SE0a//OJXlMcS3Nc3JbQUJzWBkW30cylYylmcpbyzTf/+rGUqG//NExIMSiaq4AMFElHCnix46oOyyypZ87AT7UVoPq5hUEb4FxwiqgTCXOcV6AdHR3Esm7l2qW2drfbEr1golqTLFLKeGM8ImkQCGTMVQlvaqoGix6yrDqmz3o49/Z0f5//NExIsRuY6oAMGElI/qAhrdFUtIGRm1uJin7LKv8Y98gIgGMEbyb/aHOU6MfToSStXsuuHcMPILeCB11d4hfWDr3PEAfEGXicP1OoRnLHPh6+oH31odljDFjD8AGFCz//NExJcRgNpwAMLGcIwwlAcY/1GdhkFk9JptzCEIHjD3JpGF1OczwhZuk2mkEOft6entG2UAyoc9M+7aajKVZkZvzvu/gheND3+gfu/urazL+NWOUhh8GAIDDmLedRNH//NExKQRqXZ8AHhElE9uQV9Ntq5B7elt3ZflhJ3iAJ1IlgojjOw1oDElUBEwGGyyUszDmRbkMNicymjLdV6yebqMgkupqMrnhiN1loNmgB2LMY5T9qYZ61OY4NWbLqRc//NExLAZwfaUAHmMmAcLzC09vmdnfP2m873MY3T+k8ss9tiszlLd2VtP9/bbmNoYNIojCziyg9Rn///WfQJxxQMVebuUMHMK7sTeIEM0z/LIAkxxCtNgpEwHIatehtmz//NExJwfWgKYAM4YmAWdlDSHVqRt/36vVKr7LlhclTLWNNuGqdWNZruTk7IsKTGmu1qlKVDoIQkgTDpAfh0OIjrXUmafZ98zdv/t6L70DaD74LVa3sZCtU/64v6XRCYj//NExHEeqeKkAM4WmGgV3///yI4swCqPi4UB9HlDuIq7GHAPdWK8BQAkzVbnyEvdSMbLqAmv2xfZav0Arnx+FxfMxmDpQ2HAERVRhlpmJY9ZCWko6OQkDlAcMIaxP9N7//NExEkY8aqwAHvYlVeo53/m9lN/7Vxg4X0XmZ4rTr1CcT7853bNqsO6Rcna9YURrDAhI07OcKtkRu59vd+SWv1G7P7gK1+E5Y+PtOps3jTCh7DKhO8mzrYjXI/OeSwO//NExDgWEa6wAMYWlI6TQEgEktYgjcvO1xP7fiftreGs0KRke1ntK3OrJBZ6KrPfSOYpL7QtudqNGhF61BjVPTJYeo/Us+nSX2tcFAAoGYgZVjJFVU1NkD0giRFAIUAZ//NExDIQoaqoAMJKlNxyVXX+v6tuK7B54UBnhrj6ezKUiE4sm/EAM1zpawMXW8tmsDfvvHu0+vMZ8s0eotgr4fCTE4y7W/2RjjkNNNVyrMTB6JYDxGFwPCB5Fj0Rqf/9//NExEISsaacAMMOlHm5zqWcJprNqoO+0AE6KHQSWB2o0zMGqoDCgTAEBFejn9z33t1/YtSjf1PprovKp78RfZbU6lCKzaMaSJxGURtIou0BMf2fraLMZFyocRVVbShq//NExEoRiSaYAMsScAKdMAJQh7AzFl2hi1BkrBBGyEwjIUUJwjST1zT01vO4skpWv3wDLCaJ6dIoeKflOKWtJwFIgKAMAI9aoeESu7/QVHo6AVDCcuNugTISRgXFThgx//NExFYSaRaMANPScAgEIUBhxugFBkk3bdmGJiLXKk9nud1lR1I/mMb6mqiMil05Tn/U/ee82T2YsBYDKiEKoZN//1L8KVtg2UGARi5i9xmGu0mNkJCpYap5NRS2yw6x//NExF8ROQqIAVtIAHck+Wnz6aL+E39PNPnON7225n733z1+ynP7//7/3z///9/7rnvdHHuv4v2f+xlbKamfJ6B27WOWvZmwfyENjg6x7X9/vf77pNf4NDRBcd4fCwdI//NExG0g2yqcAZhYACWQ5FIw8eWnR0CPJYSQHxQThSDyRB3qH9zvtff////p/2///7////n7VP2uuroYxjmDhE8fEtC5hMfExowY4kFC1Y+TGgPxeSG6A/QiojkzBwfV//NExDwXSxq4AcI4AMiKyLmnkBuWEUkNxoLQ0CwbiEXhYdHxa4pCI5hEj7GD1FUZvX/////8f35/9W////3qhFqUhTP+iueEHWhQYoynIgEpQyzAwpCuiwYgO5BSiYMY//NExDEQUnbEABBEuQhQvT9f7W2xVVpjoyGwkmKVC/+aapWbq/qt8j9k/NJQGBlLYocW9EGTQcwvS2talNtUEhqqYOj7kCAMylKk+kxpVaOdVmVlXfWZ96dokaSZen/D//NExEIRyk6wACjKuECsFTsRKhI+zhhGlF7cPCcL/++//90HTX00JaSOTtVq6vGFDsKIl7kxCk0eVBSTLy5F/jIa0CwEBHlxvUFFPZVFwm4todWWFSKk//RVbPKKewYq//NExE0RiXagAEmGlKgUud1IuaGAPQUm3kTQlpbV4A+EraIu1pYcp5hyK1yqh5z0gMbe73bcu976pnAypc85Fbnt+Xms1Dix4jFntr40UYYVt71QkELf/QVhqcaRi244//NExFkSUWKgAMvElBgjnezYOWJ9QU1bXgHTjOT3EyP1DWcn5xw7yHJW9IAZqExJqiYotAAV6E/0bUQLjQHR4TANIIPKO6VqQrXfrrxRLsZ2gJFddq7HmhkyoUDavy1///NExGISqXasAMvKlLFn3JBgj25MmW9qgolBtuLiskwinJBQIp4wGzVxffP//zfFDaGDnUpzglWNdyWTV7MWClEunDbGz0yyEpQ7QV6xDLNAK6+kBpr2WE0sXBgClX4R//NExGoROXa4AMLQlCLb5CS7mjVmoC4i0TA6EYSnMGrc7o/t1NRRwkPPAroNSLCqN91LudLsgE0xZia5do4AyxZLmLmh//eBJZHeWjJapdhcq4qJI1DeKZZya1avNeKu//NExHgR6WakAMJOlGVdmCQsWURZ/u6aO69ysIgIiR/XOawakIwDEjHHXHVFSu1QQNbxyl30vO2t2dbvatSrGpDgzzhKRFyw84ScuiHXLUedpkRkqlT3UVOeesKnab+G//NExIMQ+WJoAMsKlIr2OR/7foWLx5X8aTmLrYQ/NF+xoQXpb9uTiBCoZmZAmrUl4DwfUYcufltPAlTEAu/N73VqqO2TnBLUqaU6lKGC1DOLaPpJUJXav3mb+4xA0th6//NExJIRYJJYAVoYAOtvPuWvTpp17/NVsHvzLWux1rO7vz7lOmZveedqhJUVUoFqoMI//3/4O+L78lECH7Aj5nx8VRYeFL047g4Og/p8os17HubP1m5RZTHknFAoMj5K//NExJ8gUhqUAZhgAdszk3UMueVClVMepWLNJM/NxMG2Bcw8HWFOsaFzg8msOGWaHTH5z////5ensUtt3WQi9h8LbblEobkVgUkRLNCfEIELOS/mVrAhiflspzfOI1Rj//NExHASAQagAcxIAL5VqNTAmBKJ93CzGYW5Ym1nCnvt3VER7H/7N7+epTjxgZh+zN++lRixUorT///+1SH4bSBCat55d1EQZcDwgSxSZ0CE483BS4PymokxJniAB1NX//NExHsXWdakAMPEmCtDM44bvyeUspUFWk/zOIEh2HUJqKCRbz8s6HcBcPggCt6qTiEHsEcE8u4lzGM//3/9f97Nsm9LVrvbQKp1Po0/////66aT/+vtRkgW3lJKquUy//NExHAYsY6wAMYWlBZpubByEtqfYuOcEQP5S2suR+GEA7r6xoZTJCAFAe39zCRspSGZjA6OlS8BIAIEgMGF/OUQlDSAQdG8psT9+mdpelOn7Q5vzlDkfh0UAImNHP9Q//NExGAZoX6wAMZYlT/++na0kooy+oNyNBR5VI6OmC5Eo+kpu5CMp6dX9/u5AKF9PvePaqXrWr17HX1oBPyJrP8GGeFt+LnCmHaecf19XrXH3v/71rX/s3MceJmuGJXN//NExEwUoYq4AIZelHHNVGuz+Tpf3E1AnDJGipMqMLu0GFHR42XiJnWsv1+5lYm72X/lVSpi+PMv1sKVpr+A/MjbUMJQylz+byG3X9JFnX+1C2wqEcVO9H8WpOa/9boB//NExEwRgW68AG4WlOJy/u5RABAUTnRuh+1uptvc/ap4zAWHNDDBgPAVH+4VxyvYwd+e5bqpUVAuTfoRPpFmc9w1icOak/oqkOcheu9VR3kC7qQiJNzwRaOy6rmwRmQj//NExFkQEUq4AVlQAEk/sE06QB9l7ZZxxzSDeev/ilSR/LUW/DHXcdcVHzLLfzc19aCkMrr5fTWMi6pS4bXv6uZuJ7e0/nH2gTzVjFzjSQrLjMRh1zbGUxmypiP0Dmbt//NExGsgwyq4AZhYAB6JslRaaE46b+XonB4XAEJBADSOwbTKF/QLBcWmodf//////T////////79P/qVPTqtuqodmMJDw6QTFFAUVIBxd/ZHMwcJLFQCKraM5iqKAwiJ//NExDsQ6xrEAccoAZBQUDoSAcUIpW6AMBv//////////+X/////////xf/Ht/Xzyvr7fPBT6XaI7qcDaRIIKCzXvdzCUcpyqh9KxjjHERhIKiEHRJ5YbFbEMJBohByd//NExEoSmyLAAChQvEp32UgBk5FReX///r+UeRGP////9f//////t///X2ua5hzDwlIIw2JUNOnGTaDyHF2jg+OOaw+YapxQ0buD04eKjoOTFUWiYmIhCn9vs4QOUGlx//NExFISYx7AAFhOvOhm3rL//2GejqWhkVAyNSA0Y3OzfP0/0/3PInJr//////T////y1SUMdtW/R39DSsoV5jGoaoUpwokSk2GBRoNVf7ucoJMHGtUiIbP7HYDQWvkk//NExFsSCwa0AHjEud8gq7g5m4EVtxUOjhgCAKUhD05dvdLWkG00ZpRwfh0K2HGin/fygsjtR///9lFZiL0PU6eUwsVKQL7yq9mVE2hawMAJNI3TlPutkrvYmqvUu25x//NExGURuR6kAMoQcCBGv+9o9vCozOZpNKR/Ptb7adREAQx/+rCQFdSg2////+nF+qp7OYzIAgQNUjRCdcq/laL8XtRS5q2p9aT0h/UkkfCwaik9ZgnqPNnJlQ9QEF2K//NExHEQkRagAMtYcCICK1X////iptyaHPcgvT7rP//uplbDHOMCHlx784SH8s35QqenhSxHvx/83+b+o5HGAIlj6LHuyC6ZHmRlNvVx9xMEx44qnL////3HiRUZ/Psm//NExIEQ8daYANNKmAZzp43EIBRmNBSGh9FKyoDIn9714dKDph0kM/NXX/h/eoyiLjGdYyG6cr+q+Zr77mSYuAqDpDzv/40BCUNExsGgo0YA////ydGX3q0pO6dUIld1//NExJAQAaacAMoOlWUDqUqh8vBGEGMpuJKzLL6K6CTqUUUK02zl3Wf2Q/Pe+7j/9j87iZKa4DPemV/8VchksKLMckrO///+ERcibFJloEAE8gZ14cdIEoQ4VRTTSAIF//NExKMReSKUANPQcKG3MO45uvr2OfuVOuHlSC0qKtl5G4pxNtRLigGXHPv/r/r5v/3/3///////7ZCUGvVGQ+9S9Aul1mpKW6fIFBAKh0vEpMKk8RweI+WFZKlx3NFr//NExLAR+SKMANRScEklVsszHmYGyKlU006pY6ZuORa0VHFp0GSQHomSYagYA1I288ZEoUHNDQJ6FuCjABqB7BcQQP/dA0dmW8QQaQ5o+EmdMSmZf/7/8oOgmXEkFmp9//NExLsRWr6EAVooAA9FaX///+xvOJzJOA0K9BT//////////////7/+N61fP/pqlNeBEvPelq7njw8ZdXo8UuGVahtJfCSIYfhoHgFWP8llGSK1IYwKiCqGxkvhgVB///NExMggcvqIAZhoAbnLs/IOM12zx048gzr6jjSy1Q+OzyNq89Tjg1vpszy+Gxs+8Mjxwf4iUp3lIltwK3xAVlIkD00wTZgDA/CpEX////////y/QKzuYDQBIMWpyvFY//NExJkg8u60AcJ4AXqkTTdA7iuE2iEKcDyGKJ2BqGIQl1lNwJ4kOsiekVaEpFgs4ObEjl0pYqhZtSwDliF9XoBlT1hUcsp6dPscNWYfVbYGItos+FLERLg3KWC83Hmk//NExGgfCx68AAievIeLaw7pHiS2wzdziUhUheWnx7xcKkX0ngnNjx8qAQRP06Zn+Td/530IKLUPj2WQmZCLOEDqpjFNua33Gp27UbB0/S35GQCIWjjkSi1djsO3GrtV//NExD4aIua8AGFMuFsWhatktVSUlNG7jyc/97LOVc/vM4dZ156mrzc0kWrZNhMJNKTROPtUVpqCd1qVfYeNfpnSXmfbK1oFjFQ/JqeRktvwXbja1Wd7Fr4ipiV24JeV//NExCgb0aKgAMvelOKUA0FNPF7ELueU1aDDLEX0uLQ3l4QqE+2wXrX3+fW9LXw/ePlKymghsJ9M8VL62Wtyi+sF/oOlCKDlgaIwL9vjP/rGJUf66t/8jZXZbZgJsIM0//NExAsPwW64AHrKleqzjT+pXybt+R316BMJzDRACQnOeoVjcTrIExVSgOAJRFjmbOltf/RqFMLGUPmBCKse7Y+R7/reK1cuykmYxbnYMR5PXJhBZ5PeqLpbUNYU5qpI//NExB8SKZasAMNQlGMDpEpU5WPI2usLXqAmp141vmP54///+LX0oWFrcFBa4w1rcXBIeziAzYV3dASKmt4XgFqYvTcrKJRptpCb/K5j0+igtDkTIERlvFPZVX14s9LQ//NExCkQ+ZasAMPOlFJOeYOjZ+S6+3/9Opfc8Bo1HmFAZU5h15XdIpR/eMWajfqUwRGGJ2ZUXa0/gdMTf7XFtehuvMv1YAwt2m4oIETNl19WooTLmgo0IDmzP/6+f1Md//NExDgRqZawAMPUlBhexAYeK5KTsw+PUn1vVZNzKhKqZXhf4LW1EajokxIuOvOv/H1XHOrG6pIed3SyUCl3mOf+c52jjjmHAG5gEBYuf79PV+Z0GFuKxaVHDwhLmLGt//NExEQR2ZawAMPOlMT9sqq3/Or8U/zWQ+Ga1dlC1YmdtTr/tv36nT94uhV9Qi/AMR2skEgaDv6JU50Lgmp7hgJaPGL1Qk9/fnvxD0YRxVucLh02aJBrLJN1NVXut1Cq//NExE8SiaawAMPUlInLV10U4otZ4+knpctzPEM+LzdCAm0C9NQlFcBI6phNyOmtICkEqTTL4/G7oFx2qQ61PzXYnqdkBpNrl8dxbWSZq1yQw9yinvypQKNiu8X0TOxy//NExFcSqaK0AMKalPgK1zW5/UzlfO6CUc8UhKjMhnEyMpdBWx4ILQByn2lSfSbmvmupSekSTZiPGkkVmeisjLWxk7kK///0+2mnTdb5D5sy1ex6swO5S2ttkpCaN28u//NExF8SqbasAMHalIWlmq/kCjSMRbEsoFUASDSxUJQIQ6owJjs81tDv85/858hO49AUNfZ///+0XbLK3qu3QA5i3kVXIKhTVA4TbKITgnAxNDMs9R5CgapOyQ76aQru//NExGcQmaKgAMCUlLxZ8YqiKOeyDa2R/Zc6i38FmMWQ/9O/r////0arTqT1FfqwUQAJpOKChWapCUrNXD1NudVGTCNrLQkz5wpPUOwhmaRWMha2EDNdQ8dImDrsKitA//NExHcRGQ6UANRScGzibmlErBbx4rkBWxn+nv19n0K2v/87FaT//////yOiGD5nkF3Zqr1/kPHSaFYFdllqAeWh9/4CCgt0XfjdpCf4ECPePhyxAVjwrL94pVXIyQ1u//NExIUWCsKEANtKuUL4miCP9scZc01eR1Df7i7gv3qgy2RDs5HE0/U/U78hNyEFxhQHA4wUOgmL+vXaJ99TnOchCEIQn///+yZYsjDr+XD8ne6q3Sf5QZ51MQsgUD15//NExH8cKsKQANPKuIQ5GLHWiNt73+sZQU6ndTKv61jUvhOPMnLlUqjSJ9aLQ0n4Iiqat0Ygj5Lo5x96mGqEvmYWAfZjSoaiQGNxbdN1ddqm+oMbP8Kb6ln/y51vVgj0//NExGEhchaYAM4emISKNFybEKCrQp29rHr/L85bWn30ybxqB9ZrHLFxrm/9We57+HX+ZPCawUmv8V+rVucGQQGs51aaEAZ3fx6E8/Nimf6bLO/92LUliOKwdicPjhHG//NExC4ZugagAM4ame2oCZt39QDjl9MCxPIm4SAZRfPC0AlxskokV6Taz3OtnfJVBNMQQqNDokgWRs6yx9ftzA/nFtY2zO/uoBbhw3YpBwt6LP2yV/4GrCUz23t6Zkd2//NExBoRaX6oAMPOlNeDFf7yqXkqkH9B29iR41uNTJ/VBKqYC4us4bPnP/9fNbHi5swEgaiL89Dtz7SQOcXQuGr2NKYnSgvynxXiioOWohN//WK9L77ISgkWKACC4nyK//NExCcRyXqUAMpKlBlloYi9A8cjoJCZ3UOiQucBRRTmf//9VkFTKgoLMmPIKrXOywwvA1oF6IcbgYBqZYM0FzovhKGTWXs+v8slL5ewnkSyoBALfIiRyyKFN/VycMi1//NExDISYQaUANPScB3GYbCNPDYg/3gYNFWzb0Nv6nf///+iqtbrUoqIM7AEpCP8QiIECqWlv3glIJMxMI6xQgZbWkXJ9YI4Btq7ORKErR7W7RsEVnynzrVGcMCscD/W//NExDsakbaoANJelJkhp9bJ4TR+cixtXz1f7y/3qJmRkzalYRO1csMcJkzHlVkFXx6avd/EacdWiXeFqua3lVWUHwbtb+keoivLbQ8wDAUf40QFD1QXECasu9jKqydX//NExCMXIa64AMFYlHsqfgFCYdRz8gpDMtkokFxEPAzFRoQFRVXOvwMO/BW8tRwJaXKZNPx6aJ60QSoancESmxwma9ItHIrm/5dgoAyCTlvsQzaStWf9RJ+hgxPCk9Wt//NExBkSQa7AAMiYlcuZmZ9pltr0piGg8jo7h1GTR/rZaYmp8WNpWtttTdrR+8d5yzh+dpF13T84YgKJK//X8iJUEJ3YEwpqPCmjTegSFPqT5n/b5rTpnLNI1lOgJRVA//NExCMSmba8AMlYlCi91+NKJKkfD+aYVjZAM1E1qtzb780RnlGJSpyKT2HWZSrKNeHXfRX//+0qOx9vt/Xf61+46KfQIv8a3yin5n//bP/+dN9P7c/QTI7E1/O1FuK5//NExCsSMbq0AMlelQjeczvoJ0RMZxaRpj//CeWkZvwoKdLafkOu6PgoAe65hhKI6clTzw+6tj/mR34Sf439P83//v/5+G1xgw4kz+EEdQnOok7w71LXeKWYFrU+94wk//NExDUR8cawAMlelFyx9328jXpAgahrx1e33SsY76XLuOoCj6XwCi6k5Gv7ha///z///+jqgaYppaNNlKFIW7+R0cx0S9sZt7PXr3RThIDMB8+bDIRFTlynOCziD7F6//NExEAQ+fq0AMBEmLlPnyZ0XNTIfQPURKZ04bXV8r/////95I6Otv///0LzkYvzL++sh/SyvnSvealHKMZ5aSAs7d+mTqrOb0k3N8uOiERmZ2FvFDsVSg+i3PTJg6OO//NExE8SgwKkAGhGua1hEz72ltn2729P3+be/1jf/tJV5KRcE1DiNRaqfPjRuVkXtfHFM/nTPU7L1ya985XJnNtCxs/r7setZPbefnm7tXhTHMB3cGjLCBQS1JCKZUM6//NExFgfux6oABmYvDlbXanWbZpWKpASlQn7Ve6f0bPxMLJdVMCtwbixcvSvL4OWIDxYSRb27dWTksTvSyFbrZLfrurnCnDncvof6K9GchX/3+P/r1//e+7nfy9Xnc99//NExCwb8yK0ABCSvN/wzzSjrdwuU92avQK09LkiQoEk0jvKi+HYIyA6AcVASjICNsVuGipsMiyZIuDyGJCFjUWkbJCPlAHgKwHRkDyQsYSxkX///////kXGZMFppj83//NExA8Q6x7EAAhGvCiZerD//PL/7Pd3+Zz6fz8/6v6XRYfhhwwEwYCacO/c1GjNm4n1RHKMa+ZzhqoUMaqArwMqMbFGWAAOQ6BkjnUMu871/0f/+yJoh2CDowZ0Z3rY//NExB4RWkq4AEiGuFMgzkf3Mpn+f/HQ/W/Yax6V/y+9/9VVb1SVqWwwpzlxE9lWDawlsXWQ/VmBBZqrLbOSWwsGsGkBAVySMjhJMjRK1Ptu2ZZD3WPW3eGhKD9WoSgg//NExCsSoR6wAMJQcCxY8q06uZmZg4LG2jfVoXnJRR5qmMHspR9T6P/rHpmFu9ymyZcouxB2GGzr/xoGjiMcmY1D1y9ciu87tqmyzv2d/EcnzbdBRA3KoN0iSEB1tdRD//NExDMTQR64AMYScCmd1hedMQc4RhV4nHf/P5o1EbiDP///xTSNW96IG7eyCyGS3MYQsIMya08CasZ7KMeZyvX45Tv7r6klDPtykopOSVPQoVAyAwywSpNPLbi6DuYT//NExDkRmS68AH4ScImz9p2gU7Et0mQHRJUqWrbNFBdMhZtEkgGggsCODFmtI4/Knm1hse6h0tiEtrEWryvFJIllE1UxOHgySRk0bu1VZJq7mInBMWLVEfXTHRWRu/////NExEUR2SK4AHvScP/ytabO4SA7m+g/iiwqDQaMIOpA2lQ3W5Vr+HF+Fn+Rr9b/u/Sj7fntRrTgmVIgINUgJUR0A6y6MVs+GR6lq/W92oACL////1pK72Lm4QwpgbcC//NExFARaTqwAMPScKW9A7eAUSwsWyPXhTYto2ds7RP/WuGAynzUSBBQy/pekpd2Sjxl3WXOsNl/m3xivvfXxi95YWKRJ8QL69oPMX5Vg7WS4e1WRFId/bk898HXFihf//NExF0Sia60AHlelR+vD+raa9H2zj5auNBCNjYFgNyYxwhS7DlKoDalMj2a6Rq09qP5glUvKq1FFpgbMs5If//+hWSYSwSBYUKyycFqsy+i+VMmdmbJg1wmDbC6tv+l//NExGUR4b6wAMlalK2dAYxLLSADIYZgowfVOFpWkcNc61XW1T5w/U+cNs2ziWPZWa////61d2df0wwjVfKBGUjYFD77jA3C2i4aZkWb9p57Y+F3eJn2kif1387/l364//NExHARYcKkANCalPXUbOm7KRElRq8I6DlxCTy1nD5JLWdZESSWVASh4KpHJ7m4DOZ+FZgRrBEZrrjg4iPDykdA8ayopZ58o40uyi1jSoaOCqtpypo/yi/SWptRqnKK//NExH0SKSKQANpecEgANg6YFXr//ETwO9EMH7sMpMXlUiBD9CIPk4EEhIwwGgQSG5cRAAjmVHK0o3OQySgtJqcrB000WrVHzaF+SrFAIXEwtX//JkhSoThcp///+lUe//NExIcQOQqEANNWcD5UjXzPHsWV1uIJj6XOLvyBQAITpH16x39Hn5v/jsol2boUy6x7KTR56lmmv/olRIEnKLo49f///+VTSmayjnMME4c///u7gopCjSZRj2UHGy2g//NExJkRERKAAOLKcKpJyD8Dg9c4QOsqn5p/V5DXjW0c3YPamAbMX/LNb19dfXzOqukVUWAZBNiPX/1/+ujlOYinLISwfEhAUCvrp2ovZW+/E1UMTK69Ta40MAHXAAaf//NExKcSWc54ANpKlLG6djXAaHRekygbIJu7kYS8S+U8Kro+Cu5VR/Tp5BJBR4mExX////bRRVTDmjw6KmAEcQVDs47///qiVKo0gNl6CM8y8Hj4IMQeNI1LRVGDSfXa//NExLAT+dZ0ANoKmK8xHxBZg1E8IjEYcdUEDVZ39UoqfnHEGHKU7Xv7v///1KdlICCRmUVYOiobPN///XpRRFWGQWNT6AU4tKYtQGZkY6V5GzjuLI+WIxHFJ1qOgSKH//NExLMSSepwANiKmEEOxlq0u6O6pSjvV5WRhIGFpkb/+8cwqCwOA0SCZkv/oQ0ZoQSvBwkEdpShNJdcrbyCscKsH42zCPe6GXFRIwLQSMumuqu67Jn7adz8GVisxETp//NExLwR+d5oANFKmP/T9mrsQlUIKMoC6P7nUEdSemgzYT6PAxghAQeFQ2el+1+liYZQsoaWNSNNWOBCtGjMbBgIAFOk9KhhywmGhGJSrYiBg6BRLNNqLVqueQc+kNHQ//NExMcQcSZkANDKcFTsPuauvR6ZxyT3+xWmNv1KMnOMUDkACPsaaWgUw2VEYG2oRfqiBfoHRBzfaAzw7AIswqeEDoREBcMDBPPrPiIAgcgjxqBs/h+Yxka8yukvPoaL//NExNgRQcpYAMIElCOyuYa0xYxjEV/XMrjDaz4x0CZqgBbRDJuLok6wSqFSV1dClMXHixQd/6Sol5gtJ/ZpkAHRKxQNHg6EioWHmRYcBajU8lcO3LW4AHpUBTz1Iuni//NExOYUGJpQAMpGTKlYSexqWIcBbM7Z9v7BRT3ITFIzPG1eMrb14FNpml5Hpfly1Y6bKG8EDI90sP4YZ2zGqnD1n0jbyY8/aVCtnbKmpq9Sy2eWrLmq6G6herI9y36p//NExOgTOJpUANJGTF6tv3SxhwDcdERVXle56Y6LITS3jrrBIMLhBPUJ5oqyhx0JAy4YDQFJCx4SqJFQVMg0eCYaF3S1bpIKA0JdsRZV2tx06G8SgrEsqWep4NLO9bkq//NExO4VoKZEANsMTCoKw1Klny2t1Z1pV0sqEIQRyFI1DWKBzHAqJ0wkUBiBYgo040oDEHmFFnGlFhA4QFZZZYGChgYIGEDgoLCwsFhUVFRUUFhYWFhUVFRUUb///FWf//NExOoVcmIsANDEuPFhYWFhcVFRUVb/iwsLVUxBTUUzLjk5LjVVVVVVVVVVVVVVVVVVVVVVVVVVVVVVVVVVVVVVVVVVVVVVVVVVVVVVVVVVVVVVVVVVVVVVTEFNRTMu//NExOcTiDYIANMMBDk5LjVVVVVVVVVVVVVVVVVVVVVVVVVVVVVVVVVVVVVVVVVVVVVVVVVVVVVVVVVVVVVVVVVVVVVVVVVVVVVVVVVVVVVVVVVVVVVVVVVVTEFNRTMu//NExOsUyNz8AGGGcDk5LjVVVVVVVVVVVVVVVVVVVVVVVVVVVVVVVVVVVVVVVVVVVVVVVVVVVVVVVVVVVVVVVVVVVVVVVVVVVVVVVVVVVVVVVVVVVVVVVVVVTEFNRTMu//NExKwAAANIAAAAADk5LjVVVVVVVVVVVVVVVVVVVVVVVVVVVVVVVVVVVVVVVVVVVVVVVVVVVVVVVVVVVVVVVVVVVVVVVVVVVVVVVVVVVVVVVVVVVVVVVVVVTEFNRTMu//NExKwAAANIAAAAADk5LjVVVVVVVVVVVVVVVVVVVVVVVVVVVVVVVVVVVVVVVVVVVVVVVVVVVVVVVVVVVVVVVVVVVVVVVVVVVVVVVVVVVVVVVVVVVVVVVVVVTEFNRTMu//NExKwAAANIAAAAADk5LjVVVVVVVVVVVVVVVVVVVVVVVVVVVVVVVVVVVVVVVVVVVVVVVVVVVVVVVVVVVVVVVVVVVVVVVVVVVVVVVVVVVVVVVVVVVVVVVVVVTEFNRTMu//NExKwAAANIAAAAADk5LjVVVVVVVVVVVVVVVVVVVVVVVVVVVVVVVVVVVVVVVVVVVVVVVVVVVVVVVVVVVVVVVVVVVVVVVVVVVVVVVVVVVVVVVVVVVVVVVVVVTEFNRTMu//NExKwAAANIAAAAADk5LjVVVVVVVVVVVVVVVVVVVVVVVVVVVVVVVVVVVVVVVVVVVVVVVVVVVVVVVVVVVVVVVVVVVVVVVVVVVVVVVVVVVVVVVVVVVVVVVVVVTEFNRTMu//NExKwAAANIAAAAADk5LjVVVVVVVVVVVVVVVVVVVVVVVVVVVVVVVVVVVVVVVVVVVVVVVVVVVVVVVVVVVVVVVVVVVVVVVVVVVVVVVVVVVVVVVVVVVVVVVVVVTEFNRTMu//NExKwAAANIAAAAADk5LjVVVVVVVVVVVVVVVVVVVVVVVVVVVVVVVVVVVVVVVVVVVVVVVVVVVVVVVVVVVVVVVVVVVVVVVVVVVVVVVVVVVVVVVVVVVVVVVVVVVVVVVVVV//NExKwAAANIAAAAAFVVVVVVVVVVVVVVVVVVVVVVVVVVVVVVVVVVVVVVVVVVVVVVVVVVVVVVVVVVVVVVVVVVVVVVVVVVVVVVVVVVVVVVVVVVVVVVVVVVVVVVVVVVVVVV//NExKwAAANIAAAAAFVVVVVVVVVVVVVVVVVVVVVVVVVVVVVVVVVVVVVVVVVVVVVVVVVVVVVVVVVVVVVVVVVVVVVVVVVVVVVVVVVVVVVVVVVVVVVVVVVVVVVVVVVVVVVV\" type=\"audio/mpeg\" />\n",
       "                    Your browser does not support the audio element.\n",
       "                </audio>\n",
       "              "
      ],
      "text/plain": [
       "<IPython.lib.display.Audio object>"
      ]
     },
     "execution_count": 7,
     "metadata": {},
     "output_type": "execute_result"
    }
   ],
   "source": [
    "n=0\n",
    "stop = True\n",
    "l = []\n",
    "start = False\n",
    "while(stop):\n",
    "    n = n+1\n",
    "    with sr.Microphone() as source:\n",
    "        r.adjust_for_ambient_noise(source)\n",
    "        print(\"say something\")\n",
    "        audio1 = r.listen(source)\n",
    "        print(\"time over\")\n",
    "        print(\"recognition...\")\n",
    "\n",
    "    try:\n",
    "        #speech_as_text = r.recognize_sphinx(audio1, keyword_entries=keywords)\n",
    "        speech_as_text = r.recognize_google(audio1)\n",
    "        print(\"text : \" + speech_as_text)\n",
    "        if \"meeting is over\" in speech_as_text:\n",
    "            stop = False\n",
    "            Audio(sound_file_end, autoplay=True)\n",
    "        elif \"start the meeting\" in speech_as_text:\n",
    "            start = True\n",
    "            print(\"OK let's start recording\")\n",
    "            Audio(sound_file_start, autoplay=True)\n",
    "    except:\n",
    "        print(\"didn't work\")\n",
    "        pass\n",
    "            \n",
    "    if start:\n",
    "        l.append(audio1.get_raw_data())\n",
    "\n",
    "# Let AIME ask for how many participants\n",
    "Audio(sound_file_howmany, autoplay=True)\n",
    "\n",
    "#speech to text\n",
    "#text to number\n",
    "\n"
   ]
  },
  {
   "cell_type": "code",
   "execution_count": 32,
   "metadata": {},
   "outputs": [
    {
     "data": {
      "text/plain": [
       "3"
      ]
     },
     "execution_count": 32,
     "metadata": {},
     "output_type": "execute_result"
    }
   ],
   "source": [
    "len(l)"
   ]
  },
  {
   "cell_type": "code",
   "execution_count": 33,
   "metadata": {},
   "outputs": [],
   "source": [
    "binall = b''\n",
    "for elem in l:\n",
    "    binall += elem"
   ]
  },
  {
   "cell_type": "code",
   "execution_count": 34,
   "metadata": {},
   "outputs": [],
   "source": [
    "with open(\"microphone-results_fromRaw.wav\", \"wb+\") as f:\n",
    "    f.write(get_wav_data_fromRAW(binall))"
   ]
  },
  {
   "cell_type": "code",
   "execution_count": 35,
   "metadata": {},
   "outputs": [],
   "source": [
    "import matplotlib.ticker as ticker\n",
    "import matplotlib.pyplot as plt\n",
    "import numpy as np"
   ]
  },
  {
   "cell_type": "code",
   "execution_count": 36,
   "metadata": {},
   "outputs": [],
   "source": [
    "from pyAudioAnalysis import audioSegmentation as aS"
   ]
  },
  {
   "cell_type": "code",
   "execution_count": 37,
   "metadata": {},
   "outputs": [],
   "source": [
    "def show_spkDia(flags, mt_step=0.2):\n",
    "    (segs, classes) = aS.flags2segs(flags, 0.2)\n",
    "    for s in range(segs.shape[0]):\n",
    "        print(\"Speaker #{} : from {} (sec) to {} (sec)\\n\".format( int(classes[s]), segs[s,0], segs[s,1]))\n",
    "    nSpeakersFinal = len(set(classes))\n",
    "    cls_ = flags\n",
    "    class_names = [\"speaker{0:d}\".format(c) for c in range(nSpeakersFinal)]\n",
    "    fig = plt.figure()    \n",
    "    ax1 = fig.add_subplot(111)\n",
    "    ax1.set_yticks(np.array(range(len(class_names))))\n",
    "    ax1.set_yticklabels(class_names)\n",
    "    plt.title(\"Speaker Diarization\")\n",
    "    plt.xlabel(\"time (seconds)\")\n",
    "    #ax1.xaxis.set_major_locator(ticker.MultipleLocator(0.3))\n",
    "    ax1.plot(np.array(range(len(cls_)))*mt_step+mt_step/2.0, cls_);"
   ]
  },
  {
   "cell_type": "code",
   "execution_count": 39,
   "metadata": {},
   "outputs": [],
   "source": [
    "ex = aS.speakerDiarization(\"./microphone-results_fromRaw.wav\", 5,\n",
    "                      mt_size=2.0, mt_step= 0.2, st_win=0.05 ,lda_dim=0)"
   ]
  },
  {
   "cell_type": "code",
   "execution_count": 40,
   "metadata": {},
   "outputs": [
    {
     "name": "stdout",
     "output_type": "stream",
     "text": [
      "Speaker #2 : from 0.0 (sec) to 5.4 (sec)\n",
      "\n",
      "Speaker #4 : from 5.4 (sec) to 11.8 (sec)\n",
      "\n",
      "Speaker #3 : from 11.8 (sec) to 16.8 (sec)\n",
      "\n",
      "Speaker #4 : from 16.8 (sec) to 19.0 (sec)\n",
      "\n",
      "Speaker #1 : from 19.0 (sec) to 21.6 (sec)\n",
      "\n",
      "Speaker #3 : from 21.6 (sec) to 23.8 (sec)\n",
      "\n",
      "Speaker #1 : from 23.8 (sec) to 32.0 (sec)\n",
      "\n",
      "Speaker #3 : from 32.0 (sec) to 36.4 (sec)\n",
      "\n",
      "Speaker #0 : from 36.4 (sec) to 47.400000000000006 (sec)\n",
      "\n",
      "Speaker #2 : from 47.400000000000006 (sec) to 55.0 (sec)\n",
      "\n"
     ]
    },
    {
     "data": {
      "image/png": "[encoded data removed]",
      "text/plain": [
       "<Figure size 432x288 with 1 Axes>"
      ]
     },
     "metadata": {
      "needs_background": "light"
     },
     "output_type": "display_data"
    }
   ],
   "source": [
    "show_spkDia(ex)"
   ]
  },
  {
   "cell_type": "code",
   "execution_count": 4,
   "metadata": {},
   "outputs": [],
   "source": [
    "# Import the required module for text  \n",
    "# to speech conversion \n",
    "from gtts import gTTS \n",
    "  \n",
    "# This module is imported so that we can  \n",
    "# play the converted audio \n",
    "import os \n",
    "  \n",
    "# The text that you want to convert to audio \n",
    "mytext = 'Hello Claire, I love you'\n",
    "  \n",
    "# Language in which you want to convert \n",
    "language = 'en'\n",
    "  \n",
    "# Passing the text and language to the engine,  \n",
    "# here we have marked slow=False. Which tells  \n",
    "# the module that the converted audio should  \n",
    "# have a high speed \n",
    "myobj = gTTS(text=mytext, lang=language, slow=False) \n",
    "  \n",
    "# Saving the converted audio in a mp3 file named \n",
    "# welcome  \n",
    "myobj.save(\"love_you.mp3\") \n",
    "  \n",
    "# Playing the converted file \n",
    "#os.system(\"mpg321 welcome.mp3\") "
   ]
  },
  {
   "cell_type": "code",
   "execution_count": 2,
   "metadata": {},
   "outputs": [
    {
     "data": {
      "text/plain": [
       "32512"
      ]
     },
     "execution_count": 2,
     "metadata": {},
     "output_type": "execute_result"
    }
   ],
   "source": [
    "os.system(\"mpg321 welcome.mp3\") "
   ]
  },
  {
   "cell_type": "code",
   "execution_count": 3,
   "metadata": {},
   "outputs": [
    {
     "data": {
      "text/html": [
       "\n",
       "                <audio controls=\"controls\" >\n",
       "                    <source src=\"data:audio/mpeg;base64,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\" type=\"audio/mpeg\" />\n",
       "                    Your browser does not support the audio element.\n",
       "                </audio>\n",
       "              "
      ],
      "text/plain": [
       "<IPython.lib.display.Audio object>"
      ]
     },
     "execution_count": 3,
     "metadata": {},
     "output_type": "execute_result"
    }
   ],
   "source": [
    "import IPython.display as ipd\n",
    "ipd.Audio('welcome.mp3')"
   ]
  },
  {
   "cell_type": "code",
   "execution_count": 4,
   "metadata": {},
   "outputs": [
    {
     "data": {
      "text/html": [
       "\n",
       "                <audio controls=\"controls\" autoplay=\"autoplay\">\n",
       "                    <source src=\"data:audio/mpeg;base64,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\" type=\"audio/mpeg\" />\n",
       "                    Your browser does not support the audio element.\n",
       "                </audio>\n",
       "              "
      ],
      "text/plain": [
       "<IPython.lib.display.Audio object>"
      ]
     },
     "execution_count": 4,
     "metadata": {},
     "output_type": "execute_result"
    }
   ],
   "source": [
    "from IPython.display import Audio\n",
    "sound_file = './welcome.mp3'\n",
    "\n",
    "Audio(sound_file, autoplay=True)\n"
   ]
  },
  {
   "cell_type": "code",
   "execution_count": 2,
   "metadata": {},
   "outputs": [
    {
     "data": {
      "text/html": [
       "\n",
       "                <audio controls=\"controls\" autoplay=\"autoplay\">\n",
       "                    <source src=\"data:audio/mpeg;base64,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\" type=\"audio/mpeg\" />\n",
       "                    Your browser does not support the audio element.\n",
       "                </audio>\n",
       "              "
      ],
      "text/plain": [
       "<IPython.lib.display.Audio object>"
      ]
     },
     "execution_count": 2,
     "metadata": {},
     "output_type": "execute_result"
    }
   ],
   "source": [
    "from IPython.display import Audio\n",
    "Audio('./love_you.mp3', autoplay=True)"
   ]
  },
  {
   "cell_type": "code",
   "execution_count": 10,
   "metadata": {},
   "outputs": [],
   "source": [
    "with open(\"microphone-results.wav\", \"wb\") as f:\n",
    "    f.write(audio.get_wav_data())"
   ]
  },
  {
   "cell_type": "code",
   "execution_count": null,
   "metadata": {},
   "outputs": [],
   "source": [
    "def callback(recognizer, audio):  # this is called from the background thread\n",
    "\n",
    "    try:\n",
    "        speech_as_text = recognizer.recognize_sphinx(audio, keyword_entries=keywords)\n",
    "        print(speech_as_text)\n",
    "\n",
    "        # Look for your \"Ok Google\" keyword in speech_as_text\n",
    "        if \"hello\" in speech_as_text:\n",
    "            recognize_main()\n",
    "\n",
    "    except sr.UnknownValueError:\n",
    "        print(\"Oops! Didn't catch that\")"
   ]
  }
 ],
 "metadata": {
  "kernelspec": {
   "display_name": "Python [aime]",
   "language": "python",
   "name": "Python [aime]"
  },
  "language_info": {
   "codemirror_mode": {
    "name": "ipython",
    "version": 3
   },
   "file_extension": ".py",
   "mimetype": "text/x-python",
   "name": "python",
   "nbconvert_exporter": "python",
   "pygments_lexer": "ipython3",
   "version": "3.6.8"
  }
 },
 "nbformat": 4,
 "nbformat_minor": 2
}
